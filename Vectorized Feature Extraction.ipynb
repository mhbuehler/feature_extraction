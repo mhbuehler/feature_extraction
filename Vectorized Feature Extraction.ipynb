{
 "cells": [
  {
   "cell_type": "code",
   "execution_count": null,
   "metadata": {
    "collapsed": true
   },
   "outputs": [],
   "source": [
    "import os, sys\n",
    "import pandas as pd"
   ]
  },
  {
   "cell_type": "markdown",
   "metadata": {},
   "source": [
    "# Tutorial: Vectorized Feature Extraction\n",
    "## 1. Construct a DataFrame from the Raw Data Files"
   ]
  },
  {
   "cell_type": "code",
   "execution_count": null,
   "metadata": {
    "collapsed": false
   },
   "outputs": [],
   "source": [
    "folders = [f for f in os.listdir('data') if not os.path.isfile(os.path.join('data', f)) and \n",
    "           f.find('_MODEL') < 0]"
   ]
  },
  {
   "cell_type": "code",
   "execution_count": null,
   "metadata": {
    "collapsed": true
   },
   "outputs": [],
   "source": [
    "def parse_metadata_from_file_name(file_name):\n",
    "    subject_id = file_name.split('-')[-1].split('.txt')[0]\n",
    "    gender = 'Male' if subject_id[0] == 'm' else 'Female'\n",
    "    timestamp = ''\n",
    "    for i in file_name.split('-')[1:7]:\n",
    "        timestamp += i\n",
    "    return subject_id, gender, timestamp"
   ]
  },
  {
   "cell_type": "code",
   "execution_count": null,
   "metadata": {
    "collapsed": false
   },
   "outputs": [],
   "source": [
    "data = pd.DataFrame()\n",
    "for folder in folders:\n",
    "    files = [f for f in os.listdir('data/'+folder) if \n",
    "             os.path.isfile(os.path.join('data/'+folder, f))]\n",
    "    for file_name in files:\n",
    "        raw_data = pd.read_csv('data/{0}/{1}'.format(folder, file_name), sep=' ', header=0)\n",
    "        raw_data.columns = ['X', 'Y', 'Z']\n",
    "        subject_id, gender, timestamp = parse_metadata_from_file_name(file_name)\n",
    "        raw_data['SubjectID'] = subject_id\n",
    "        raw_data['Gender'] = gender\n",
    "        raw_data['Timestamp'] = timestamp\n",
    "        raw_data['ADL'] = folder\n",
    "        data = data.append(raw_data, ignore_index=True)\n",
    "print data.shape"
   ]
  },
  {
   "cell_type": "code",
   "execution_count": null,
   "metadata": {
    "collapsed": false,
    "scrolled": true
   },
   "outputs": [],
   "source": [
    "data.to_csv('data/adl_data.csv', sep=',', header=True, index=False)"
   ]
  },
  {
   "cell_type": "markdown",
   "metadata": {},
   "source": [
    "## 2. The Groupby Operation"
   ]
  },
  {
   "cell_type": "markdown",
   "metadata": {},
   "source": [
    "The pandas groupby operation lets you apply a function to subsets of a DataFrame without using a for loop. This is very similar to applying an aggregate function with a group by clause in SQL, if you are familiar with the database language. If you are not, what better time to start experimenting with set-based logic!\n",
    "\n",
    "For the ADL data set, we want to calculate a set of features for every axis in every file. We will apply a groupby operation that aggregates by timestamp because it is unique to every file. Since we want the other indicators (subject_id and gender) and the label (ADL) to be in the output, and these are all guaranteed to be constant for a given timestamp, we will include those columns in the groupby specification. The order does not matter."
   ]
  },
  {
   "cell_type": "code",
   "execution_count": null,
   "metadata": {
    "collapsed": true
   },
   "outputs": [],
   "source": [
    "grouped_data = data.groupby(['SubjectID', 'Gender', 'Timestamp', 'ADL'])"
   ]
  },
  {
   "cell_type": "markdown",
   "metadata": {},
   "source": [
    "Now we can easily generate a feature like the mean for every group in the set:"
   ]
  },
  {
   "cell_type": "code",
   "execution_count": null,
   "metadata": {
    "collapsed": false
   },
   "outputs": [],
   "source": [
    "grouped_data[['X', 'Y', 'Z']].mean().head(20)"
   ]
  },
  {
   "cell_type": "markdown",
   "metadata": {},
   "source": [
    "With the agg() function, you can generate many different features in one pass through the original DataFrame. I will leave the verification of increased efficiency to you as an exercise. :D"
   ]
  },
  {
   "cell_type": "code",
   "execution_count": null,
   "metadata": {
    "collapsed": false
   },
   "outputs": [],
   "source": [
    "from numpy import mean, std, min, max\n",
    "\n",
    "features = grouped_data['X'].agg({\n",
    "        'MeanX': mean,\n",
    "        'StdX': std,\n",
    "        'MinX': min,\n",
    "        'MaxX': max,\n",
    "        'LenX': len\n",
    "    })"
   ]
  },
  {
   "cell_type": "code",
   "execution_count": null,
   "metadata": {
    "collapsed": false
   },
   "outputs": [],
   "source": [
    "features.head(20)"
   ]
  },
  {
   "cell_type": "markdown",
   "metadata": {},
   "source": [
    "## 3. Define Feature Extraction Functions"
   ]
  },
  {
   "cell_type": "markdown",
   "metadata": {},
   "source": [
    "Now, we would like to do this for every acclerometer axis with only a single pass through the DataFrame. Defining a set of functions will allow us to do that while also maintaining control over the named columns. This might seem like a lot of overhead for such readily available built-in functions like mean and std, but it will be become very useful when you write your own feature extraction algorithms."
   ]
  },
  {
   "cell_type": "code",
   "execution_count": null,
   "metadata": {
    "collapsed": false
   },
   "outputs": [],
   "source": [
    "def Length(data):\n",
    "    \"\"\"Returns the number of samples in a time series\"\"\"\n",
    "    return len(data)\n",
    "\n",
    "def Mean(data):\n",
    "    \"\"\"Returns the mean of a time series\"\"\"\n",
    "    return data.mean()\n",
    "\n",
    "def Std(data):\n",
    "    \"\"\"Returns the standard deviation a time series\"\"\"\n",
    "    return data.std()\n",
    "\n",
    "def Min(data):\n",
    "    \"\"\"Returns the mean of a time series\"\"\"\n",
    "    return data.min()\n",
    "\n",
    "def Max(data):\n",
    "    \"\"\"Returns the standard deviation a time series\"\"\"\n",
    "    return data.max()"
   ]
  },
  {
   "cell_type": "code",
   "execution_count": null,
   "metadata": {
    "collapsed": false
   },
   "outputs": [],
   "source": [
    "functions = [Mean, Std, Min, Max, Length]\n",
    "\n",
    "features = grouped_data.agg({\n",
    "        'X': functions, \n",
    "        'Y': functions,\n",
    "        'Z': functions\n",
    "    })\n",
    "\n",
    "features.head(20)"
   ]
  },
  {
   "cell_type": "markdown",
   "metadata": {},
   "source": [
    "## 4. Put the Functions in a Module"
   ]
  },
  {
   "cell_type": "markdown",
   "metadata": {},
   "source": [
    "If you find yourself repeatedly analyzing time series data or building applications for wearable sensors, this technique will come in handy over and over again. I have a feature function library (features.py) that I use in almost all of my machine learning projects. I invite you to use the repository and add to it: https://github.com/mhbuehler/feature_extraction\n",
    "\n",
    "This is how you import and apply the functions:"
   ]
  },
  {
   "cell_type": "code",
   "execution_count": null,
   "metadata": {
    "collapsed": false
   },
   "outputs": [],
   "source": [
    "from features import *\n",
    "\n",
    "functions = [Mean, Median, Std, IQR, Length, Min, Max, DominantFrequency]"
   ]
  },
  {
   "cell_type": "code",
   "execution_count": null,
   "metadata": {
    "collapsed": false
   },
   "outputs": [],
   "source": [
    "features = grouped_data.agg({\n",
    "        'X': functions, \n",
    "        'Y': functions,\n",
    "        'Z': functions\n",
    "    })\n",
    "\n",
    "features.head(20)"
   ]
  },
  {
   "cell_type": "markdown",
   "metadata": {},
   "source": [
    "Looks good. Now let's reformat the index and column names and save it to CSV. This file will be the source of training examples for our machine learning models."
   ]
  },
  {
   "cell_type": "code",
   "execution_count": null,
   "metadata": {
    "collapsed": false
   },
   "outputs": [],
   "source": [
    "features.reset_index(inplace=True)\n",
    "features.columns = ['{0}{1}'.format(a, b) if b else a for a, b in features.columns]\n",
    "\n",
    "features.head(20)"
   ]
  },
  {
   "cell_type": "code",
   "execution_count": null,
   "metadata": {
    "collapsed": true
   },
   "outputs": [],
   "source": [
    "features.to_csv('data/features.csv', index=False)"
   ]
  }
 ],
 "metadata": {
  "kernelspec": {
   "display_name": "Python 2",
   "language": "python",
   "name": "python2"
  },
  "language_info": {
   "codemirror_mode": {
    "name": "ipython",
    "version": 2
   },
   "file_extension": ".py",
   "mimetype": "text/x-python",
   "name": "python",
   "nbconvert_exporter": "python",
   "pygments_lexer": "ipython2",
   "version": "2.7.6"
  }
 },
 "nbformat": 4,
 "nbformat_minor": 0
}
